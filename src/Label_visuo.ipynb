{
 "cells": [
  {
   "cell_type": "code",
   "execution_count": 121,
   "metadata": {},
   "outputs": [
    {
     "data": {
      "image/png": "[encoded data removed]",
      "text/plain": [
       "<matplotlib.figure.Figure at 0x1a152a0a58>"
      ]
     },
     "metadata": {},
     "output_type": "display_data"
    },
    {
     "name": "stdout",
     "output_type": "stream",
     "text": [
      "0.826579\n",
      "0.51372\n",
      "0.363811\n",
      "0.326784\n",
      "0.257613\n",
      "0.22519\n",
      "0.211454\n",
      "0.167697\n",
      "0.179364\n",
      "0.0\n",
      "0.210436\n",
      "0.163759\n",
      "0.154701\n",
      "0.142341\n",
      "0.148953\n",
      "0.136874\n",
      "0.14802\n",
      "0.132395\n",
      "0.127134\n",
      "0.140931\n",
      "              alt.atheism  :  ['       rec.sport.baseball ' '         rec.sport.hockey '\n",
      " '                rec.autos ' '           comp.windows.x '\n",
      " '            comp.graphics ' '    comp.sys.mac.hardware '\n",
      " '          sci.electronics ' '   soc.religion.christian '\n",
      " '             misc.forsale ' '       talk.politics.misc '\n",
      " '                sci.space ' ' comp.sys.ibm.pc.hardware '\n",
      " '                  sci.med ' '                sci.crypt '\n",
      " '          rec.motorcycles ' '       talk.politics.guns '\n",
      " '       talk.religion.misc ' '    talk.politics.mideast '\n",
      " '              alt.atheism ']\n"
     ]
    }
   ],
   "source": [
    "import numpy as np\n",
    "import matplotlib.pyplot as plt\n",
    "from sklearn.decomposition import PCA\n",
    "\n",
    "\n",
    "# string=\"\"\"\t|              alt.atheism |  0.219 | -0.041 | -0.241 | -0.138 |  0.271 | -0.276 |  0.271 |  0.177 |  0.473 |  0.337 | -0.051 | -0.011 | -0.177 | -0.137 | -0.302 |  0.209 |  0.105 | -0.287 | -0.008 |\n",
    "# \t|       talk.politics.guns | -0.256 |  0.205 |  0.193 | -0.459 |  0.118 |  0.240 | -0.224 | -0.079 |  0.048 |  0.071 | -0.252 |  0.129 | -0.194 | -0.356 | -0.324 | -0.239 |  0.122 |  0.241 | -0.171 |\n",
    "# \t|                sci.crypt | -0.091 | -0.151 | -0.129 | -0.276 |  0.268 | -0.224 |  0.036 |  0.026 | -0.406 |  0.186 |  0.497 | -0.187 | -0.203 | -0.054 |  0.106 | -0.084 |  0.012 |  0.383 |  0.249 |\n",
    "# \t|                sci.space |  0.223 |  0.104 | -0.009 | -0.031 | -0.188 |  0.271 |  0.448 | -0.243 | -0.250 |  0.090 | -0.052 |  0.066 |  0.061 |  0.062 | -0.307 | -0.240 |  0.290 | -0.236 |  0.440 |\n",
    "# \t|                  sci.med |  0.088 |  0.297 | -0.346 |  0.202 | -0.206 |  0.171 | -0.276 |  0.201 |  0.207 |  0.164 |  0.080 |  0.316 | -0.256 |  0.165 |  0.204 | -0.402 |  0.041 | -0.114 | -0.263 |\n",
    "# \t|    talk.politics.mideast |  0.125 | -0.340 | -0.043 | -0.419 | -0.123 |  0.210 | -0.177 |  0.260 |  0.339 | -0.056 |  0.261 |  0.157 |  0.451 |  0.183 | -0.150 | -0.028 | -0.077 |  0.145 |  0.188 |\n",
    "# \t| comp.sys.ibm.pc.hardware | -0.332 | -0.098 |  0.177 |  0.363 | -0.289 |  0.367 | -0.073 |  0.334 | -0.346 |  0.139 | -0.063 |  0.138 |  0.260 | -0.255 | -0.149 |  0.196 | -0.097 |  0.105 | -0.082 |\n",
    "# \t|   soc.religion.christian | -0.313 |  0.064 | -0.051 | -0.084 | -0.276 |  0.106 |  0.017 |  0.153 |  0.184 | -0.041 |  0.114 | -0.434 |  0.208 | -0.277 |  0.345 |  0.026 |  0.461 | -0.253 |  0.154 |\n",
    "# \t|       rec.sport.baseball | -0.589 | -0.216 | -0.167 |  0.183 |  0.123 | -0.354 |  0.145 | -0.445 | -0.035 |  0.190 | -0.072 |  0.098 |  0.172 | -0.054 |  0.090 | -0.104 |  0.104 | -0.126 | -0.235 |\n",
    "# \t|          sci.electronics | -0.286 |  0.050 |  0.087 |  0.261 |  0.311 | -0.064 |  0.089 |  0.352 |  0.405 | -0.188 | -0.241 | -0.267 | -0.305 |  0.014 |  0.043 |  0.021 | -0.005 |  0.318 |  0.286 |\n",
    "# \t|       talk.religion.misc |  0.278 | -0.140 | -0.248 | -0.093 |  0.158 |  0.250 | -0.111 | -0.105 | -0.450 |  0.362 | -0.098 | -0.145 | -0.116 | -0.255 |  0.207 |  0.123 | -0.182 | -0.209 | -0.382 |\n",
    "# \t|             misc.forsale |  0.111 | -0.216 |  0.039 | -0.116 | -0.093 |  0.206 | -0.422 | -0.431 |  0.017 | -0.070 | -0.469 | -0.274 |  0.051 |  0.292 |  0.065 | -0.028 | -0.280 | -0.031 |  0.195 |\n",
    "# \t|            comp.graphics |  0.214 | -0.102 |  0.246 |  0.096 | -0.109 |  0.145 |  0.236 | -0.423 |  0.243 | -0.264 |  0.313 | -0.223 | -0.091 | -0.261 | -0.004 |  0.043 | -0.085 |  0.175 | -0.463 |\n",
    "# \t|         rec.sport.hockey |  0.179 | -0.205 | -0.404 | -0.266 | -0.307 | -0.063 |  0.259 |  0.254 | -0.159 | -0.346 | -0.318 |  0.220 | -0.288 |  0.020 |  0.049 |  0.034 | -0.135 |  0.233 | -0.086 |\n",
    "# \t|          rec.motorcycles |  0.300 | -0.223 |  0.266 |  0.071 |  0.408 | -0.154 |  0.228 |  0.286 | -0.168 |  0.149 | -0.216 |  0.096 |  0.245 |  0.190 | -0.029 | -0.403 | -0.056 |  0.065 | -0.297 |\n",
    "# \t|                rec.autos |  0.116 | -0.009 |  0.212 |  0.315 | -0.291 | -0.432 | -0.289 | -0.164 |  0.074 | -0.134 |  0.203 |  0.114 |  0.115 | -0.304 | -0.097 | -0.335 | -0.124 |  0.136 |  0.349 |\n",
    "# \t|    comp.sys.mac.hardware |  0.088 |  0.253 | -0.341 | -0.039 |  0.469 | -0.112 | -0.209 | -0.059 | -0.223 | -0.438 |  0.146 |  0.205 |  0.183 | -0.108 | -0.270 |  0.223 |  0.013 | -0.234 |  0.040 |\n",
    "# \t|       talk.politics.misc | -0.065 |  0.191 |  0.306 | -0.156 | -0.355 | -0.349 | -0.061 |  0.226 | -0.131 |  0.028 |  0.085 | -0.312 | -0.182 |  0.302 | -0.331 |  0.155 | -0.305 | -0.166 | -0.194 |\n",
    "# \t|           comp.windows.x | -0.293 |  0.224 | -0.080 |  0.048 | -0.065 |  0.221 |  0.312 |  0.013 |  0.047 | -0.214 |  0.187 |  0.121 | -0.006 |  0.388 |  0.413 |  0.231 | -0.325 | -0.262 |  0.241 |\n",
    "# \t|  comp.os.ms-windows.misc |  0.327 |  0.214 |  0.271 |  0.025 |  0.055 | -0.143 | -0.180 | -0.011 | -0.057 |  0.314 |  0.063 |  0.185 | -0.013 |  0.345 |  0.247 |  0.355 |  0.507 |  0.116 | -0.031 |\"\"\"\n",
    "\n",
    "\n",
    "string=\"\"\"\t|              alt.atheism |  1 |  1.000 | -0.022 | -0.065 |  0.037 | -0.018 |  0.026 | -0.382 | -0.025 |  0.013 |  0.159 |  0.043 | -0.319 | -0.083 |  0.013 |  0.080 | -0.232 |  0.104 |  0.036 | -0.203 |  0.047 |\n",
    "\t|       talk.politics.guns |  2 | -0.022 |  1.000 |  0.001 | -0.019 |  0.027 |  0.001 |  0.072 | -0.071 | -0.031 |  0.049 |  0.026 |  0.031 |  0.028 | -0.019 | -0.046 | -0.083 | -0.015 | -0.056 | -0.456 | -0.148 |\n",
    "\t|                sci.crypt |  3 | -0.065 |  0.001 |  1.000 | -0.053 | -0.245 |  0.020 | -0.175 | -0.035 |  0.039 |  0.033 |  0.133 | -0.232 | -0.098 |  0.015 |  0.003 |  0.054 |  0.035 | -0.016 | -0.094 |  0.037 |\n",
    "\t|                sci.space |  4 |  0.037 | -0.019 | -0.053 |  1.000 | -0.109 | -0.032 | -0.036 |  0.051 | -0.107 | -0.298 | -0.080 |  0.010 | -0.116 | -0.007 | -0.003 |  0.012 | -0.015 | -0.155 |  0.048 | -0.018 |\n",
    "\t|                  sci.med |  5 | -0.018 |  0.027 | -0.245 | -0.109 |  1.000 | -0.039 | -0.059 | -0.036 | -0.100 | -0.099 |  0.080 | -0.139 | -0.158 |  0.092 | -0.037 | -0.001 | -0.111 | -0.101 |  0.084 |  0.102 |\n",
    "\t|    talk.politics.mideast |  6 |  0.026 |  0.001 |  0.020 | -0.032 | -0.039 |  1.000 |  0.019 |  0.043 | -0.340 | -0.140 | -0.286 |  0.117 | -0.098 |  0.076 |  0.036 |  0.049 | -0.014 | -0.072 |  0.001 | -0.071 |\n",
    "\t| comp.sys.ibm.pc.hardware |  7 | -0.382 |  0.072 | -0.175 | -0.036 | -0.059 |  0.019 |  1.000 |  0.085 |  0.006 | -0.065 |  0.110 | -0.154 | -0.111 | -0.055 | -0.018 |  0.019 | -0.144 |  0.039 | -0.014 | -0.139 |\n",
    "\t|   soc.religion.christian |  8 | -0.025 | -0.071 | -0.035 |  0.051 | -0.036 |  0.043 |  0.085 |  1.000 |  0.084 |  0.108 | -0.125 | -0.135 | -0.023 | -0.234 | -0.422 | -0.049 | -0.187 | -0.116 |  0.134 | -0.041 |\n",
    "\t|       rec.sport.baseball |  9 |  0.013 | -0.031 |  0.039 | -0.107 | -0.100 | -0.340 |  0.006 |  0.084 |  1.000 | -0.110 |  0.027 | -0.076 | -0.001 | -0.222 |  0.037 |  0.023 | -0.018 | -0.197 | -0.011 | -0.158 |\n",
    "\t|          sci.electronics | 10 |  0.159 |  0.049 |  0.033 | -0.298 | -0.099 | -0.140 | -0.065 |  0.108 | -0.110 |  1.000 | -0.466 | -0.057 | -0.111 |  0.016 | -0.013 | -0.010 | -0.164 | -0.053 |  0.098 | -0.141 |\n",
    "\t|       talk.religion.misc | 11 |  0.043 |  0.026 |  0.133 | -0.080 |  0.080 | -0.286 |  0.110 | -0.125 |  0.027 | -0.466 |  1.000 |  0.156 |  0.076 |  0.081 |  0.127 | -0.408 |  0.059 | -0.102 | -0.186 | -0.004 |\n",
    "\t|             misc.forsale | 12 | -0.319 |  0.031 | -0.232 |  0.010 | -0.139 |  0.117 | -0.154 | -0.135 | -0.076 | -0.057 |  0.156 |  1.000 | -0.051 | -0.006 | -0.111 |  0.020 | -0.139 |  0.018 | -0.000 | -0.105 |\n",
    "\t|            comp.graphics | 13 | -0.083 |  0.028 | -0.098 | -0.116 | -0.158 | -0.098 | -0.111 | -0.023 | -0.001 | -0.111 |  0.076 | -0.051 |  1.000 | -0.069 | -0.079 |  0.097 | -0.163 | -0.006 | -0.116 | -0.149 |\n",
    "\t|         rec.sport.hockey | 14 |  0.013 | -0.019 |  0.015 | -0.007 |  0.092 |  0.076 | -0.055 | -0.234 | -0.222 |  0.016 |  0.081 | -0.006 | -0.069 |  1.000 |  0.020 | -0.189 | -0.029 |  0.022 |  0.046 | -0.242 |\n",
    "\t|          rec.motorcycles | 15 |  0.080 | -0.046 |  0.003 | -0.003 | -0.037 |  0.036 | -0.018 | -0.422 |  0.037 | -0.013 |  0.127 | -0.111 | -0.079 |  0.020 |  1.000 | -0.094 | -0.104 | -0.031 | -0.313 |  0.086 |\n",
    "\t|                rec.autos | 16 | -0.232 | -0.083 |  0.054 |  0.012 | -0.001 |  0.049 |  0.019 | -0.049 |  0.023 | -0.010 | -0.408 |  0.020 |  0.097 | -0.189 | -0.094 |  1.000 | -0.014 |  0.025 | -0.270 | -0.119 |\n",
    "\t|    comp.sys.mac.hardware | 17 |  0.104 | -0.015 |  0.035 | -0.015 | -0.111 | -0.014 | -0.144 | -0.187 | -0.018 | -0.164 |  0.059 | -0.139 | -0.163 | -0.029 | -0.104 | -0.014 |  1.000 | -0.132 |  0.034 | -0.057 |\n",
    "\t|       talk.politics.misc | 18 |  0.036 | -0.056 | -0.016 | -0.155 | -0.101 | -0.072 |  0.039 | -0.116 | -0.197 | -0.053 | -0.102 |  0.018 | -0.006 |  0.022 | -0.031 |  0.025 | -0.132 |  1.000 |  0.039 |  0.013 |\n",
    "\t|           comp.windows.x | 19 | -0.203 | -0.456 | -0.094 |  0.048 |  0.084 |  0.001 | -0.014 |  0.134 | -0.011 |  0.098 | -0.186 | -0.000 | -0.116 |  0.046 | -0.313 | -0.270 |  0.034 |  0.039 |  1.000 | -0.081 |\n",
    "\t|  comp.os.ms-windows.misc | 20 |  0.047 | -0.148 |  0.037 | -0.018 |  0.102 | -0.071 | -0.139 | -0.041 | -0.158 | -0.141 | -0.004 | -0.105 | -0.149 | -0.242 |  0.086 | -0.119 | -0.057 |  0.013 | -0.081 |  1.000|\"\"\"\n",
    "\n",
    "def norm(x):\n",
    "    return np.sqrt(((x)**2).sum())\n",
    "\n",
    "# Form the vectors into an array ----------------\n",
    "string=string.split(\"\\t\")\n",
    "string=string[1:]\n",
    "table=[]\n",
    "text=[]\n",
    "for i in range(len(string)):\n",
    "    table.append( string[i].split(\"|\"))\n",
    "    text.append(table[i][1])\n",
    "    table[i]=table[i][2:-1]\n",
    "        \n",
    "#table=table[1:]\n",
    "# for i in range(len(table)):\n",
    "#     print(len(table[i]))\n",
    "\n",
    "# print(table)\n",
    "arr=np.array(table,dtype=np.float32)\n",
    "\n",
    "# normalize array\n",
    "for i in range(20):\n",
    "    arr[i]=arr[i]/norm(arr[i])\n",
    "    \n",
    "# Vizualize with PCA ------------------\n",
    "pca=PCA(2)\n",
    "arr2d = pca.fit_transform(arr[:])\n",
    "ax = plt.gca()\n",
    "plt.scatter(arr2d[:,0], arr2d[:,1])\n",
    "for i, txt in enumerate(range(arr2d.shape[0])):\n",
    "    1\n",
    "    ax.annotate(text[i], (arr2d[i,0], arr2d[i,1]))\n",
    "# ax.annotate(text[i],(arr2d[:,0], arr2d[:,1]))\n",
    "\n",
    "# Vizualize cosine distances ----------------\n",
    "text=np.array(text)\n",
    "plt.show()\n",
    "order_1=np.zeros(19)\n",
    "for i in range(0,arr.shape[0]):\n",
    "#     x=(arr[0]-arr[i])\n",
    "    order_1[i-1]=(((arr[0]-arr[i])**2).sum())\n",
    "    print(norm(arr[9]-arr[i]))\n",
    "    \n",
    "    \n",
    "print(text[0], \": \", text[np.argsort(order_1)])"
   ]
  },
  {
   "cell_type": "code",
   "execution_count": 28,
   "metadata": {
    "collapsed": true
   },
   "outputs": [],
   "source": [
    "ax.annotate(\"1\",(1,1))\n",
    "plt.show()"
   ]
  },
  {
   "cell_type": "code",
   "execution_count": 83,
   "metadata": {},
   "outputs": [
    {
     "data": {
      "text/plain": [
       "array([ -1.90000000e+01,   9.53000009e-01,   1.26000002e-01,\n",
       "        -1.01999998e-01,   5.49999997e-02,  -1.19999997e-01,\n",
       "         9.70000029e-02,  -2.43000001e-01,   1.60000008e-02,\n",
       "         1.71000004e-01,   3.00000012e-01,   4.70000021e-02,\n",
       "        -2.14000016e-01,   6.60000071e-02,   2.54999995e-01,\n",
       "        -6.00000471e-03,  -1.12999991e-01,   1.60999998e-01,\n",
       "         2.29999982e-02,  -1.21999994e-01,  -9.53000009e-01], dtype=float32)"
      ]
     },
     "execution_count": 83,
     "metadata": {},
     "output_type": "execute_result"
    }
   ],
   "source": [
    "x=arr[0]-arr[19]\n",
    "x"
   ]
  },
  {
   "cell_type": "code",
   "execution_count": 82,
   "metadata": {},
   "outputs": [
    {
     "data": {
      "text/plain": [
       "6.0740009e+09"
      ]
     },
     "execution_count": 82,
     "metadata": {},
     "output_type": "execute_result"
    }
   ],
   "source": [
    "np.linalg.norm(x, ord=2)"
   ]
  },
  {
   "cell_type": "code",
   "execution_count": 95,
   "metadata": {
    "collapsed": true
   },
   "outputs": [],
   "source": [
    "norm(x)"
   ]
  },
  {
   "cell_type": "code",
   "execution_count": null,
   "metadata": {
    "collapsed": true
   },
   "outputs": [],
   "source": []
  },
  {
   "cell_type": "code",
   "execution_count": 88,
   "metadata": {},
   "outputs": [
    {
     "data": {
      "text/plain": [
       "array([ 0,  1,  2,  3,  4,  5,  6,  7,  8,  9, 10, 11, 12, 13, 14, 15, 16,\n",
       "       17, 18])"
      ]
     },
     "execution_count": 88,
     "metadata": {},
     "output_type": "execute_result"
    }
   ],
   "source": [
    "np.argsort(order_1)"
   ]
  },
  {
   "cell_type": "code",
   "execution_count": 89,
   "metadata": {},
   "outputs": [
    {
     "data": {
      "text/plain": [
       "array([   3.6202476 ,    6.51121473,   11.52442837,   18.57984543,\n",
       "         27.75429726,   40.15172195,   51.97237396,   66.6916275 ,\n",
       "         83.30101013,  102.94940186,  124.89035797,  146.88648987,\n",
       "        171.46603394,  198.15112305,  228.71292114,  258.03421021,\n",
       "        291.52441406,  327.59332275,  363.21957397])"
      ]
     },
     "execution_count": 89,
     "metadata": {},
     "output_type": "execute_result"
    }
   ],
   "source": [
    "order_1"
   ]
  },
  {
   "cell_type": "code",
   "execution_count": null,
   "metadata": {
    "collapsed": true
   },
   "outputs": [],
   "source": []
  },
  {
   "cell_type": "code",
   "execution_count": null,
   "metadata": {
    "collapsed": true
   },
   "outputs": [],
   "source": []
  },
  {
   "cell_type": "code",
   "execution_count": null,
   "metadata": {
    "collapsed": true
   },
   "outputs": [],
   "source": []
  },
  {
   "cell_type": "code",
   "execution_count": null,
   "metadata": {
    "collapsed": true
   },
   "outputs": [],
   "source": []
  },
  {
   "cell_type": "code",
   "execution_count": null,
   "metadata": {
    "collapsed": true
   },
   "outputs": [],
   "source": []
  },
  {
   "cell_type": "code",
   "execution_count": null,
   "metadata": {
    "collapsed": true
   },
   "outputs": [],
   "source": []
  },
  {
   "cell_type": "code",
   "execution_count": null,
   "metadata": {
    "collapsed": true
   },
   "outputs": [],
   "source": []
  },
  {
   "cell_type": "code",
   "execution_count": null,
   "metadata": {
    "collapsed": true
   },
   "outputs": [],
   "source": []
  },
  {
   "cell_type": "code",
   "execution_count": null,
   "metadata": {
    "collapsed": true
   },
   "outputs": [],
   "source": []
  },
  {
   "cell_type": "code",
   "execution_count": null,
   "metadata": {
    "collapsed": true
   },
   "outputs": [],
   "source": []
  },
  {
   "cell_type": "code",
   "execution_count": null,
   "metadata": {
    "collapsed": true
   },
   "outputs": [],
   "source": []
  },
  {
   "cell_type": "code",
   "execution_count": null,
   "metadata": {
    "collapsed": true
   },
   "outputs": [],
   "source": []
  },
  {
   "cell_type": "code",
   "execution_count": null,
   "metadata": {
    "collapsed": true
   },
   "outputs": [],
   "source": []
  },
  {
   "cell_type": "code",
   "execution_count": null,
   "metadata": {
    "collapsed": true
   },
   "outputs": [],
   "source": []
  },
  {
   "cell_type": "code",
   "execution_count": null,
   "metadata": {
    "collapsed": true
   },
   "outputs": [],
   "source": []
  },
  {
   "cell_type": "code",
   "execution_count": null,
   "metadata": {
    "collapsed": true
   },
   "outputs": [],
   "source": []
  },
  {
   "cell_type": "code",
   "execution_count": null,
   "metadata": {
    "collapsed": true
   },
   "outputs": [],
   "source": []
  },
  {
   "cell_type": "code",
   "execution_count": null,
   "metadata": {
    "collapsed": true
   },
   "outputs": [],
   "source": []
  },
  {
   "cell_type": "code",
   "execution_count": null,
   "metadata": {
    "collapsed": true
   },
   "outputs": [],
   "source": []
  },
  {
   "cell_type": "code",
   "execution_count": null,
   "metadata": {
    "collapsed": true
   },
   "outputs": [],
   "source": []
  },
  {
   "cell_type": "code",
   "execution_count": null,
   "metadata": {
    "collapsed": true
   },
   "outputs": [],
   "source": []
  },
  {
   "cell_type": "code",
   "execution_count": null,
   "metadata": {
    "collapsed": true
   },
   "outputs": [],
   "source": []
  },
  {
   "cell_type": "code",
   "execution_count": null,
   "metadata": {
    "collapsed": true
   },
   "outputs": [],
   "source": []
  },
  {
   "cell_type": "code",
   "execution_count": null,
   "metadata": {
    "collapsed": true
   },
   "outputs": [],
   "source": []
  },
  {
   "cell_type": "code",
   "execution_count": null,
   "metadata": {
    "collapsed": true
   },
   "outputs": [],
   "source": []
  },
  {
   "cell_type": "code",
   "execution_count": null,
   "metadata": {
    "collapsed": true
   },
   "outputs": [],
   "source": []
  },
  {
   "cell_type": "code",
   "execution_count": null,
   "metadata": {
    "collapsed": true
   },
   "outputs": [],
   "source": []
  }
 ],
 "metadata": {
  "kernelspec": {
   "display_name": "Python 3",
   "language": "python",
   "name": "python3"
  },
  "language_info": {
   "codemirror_mode": {
    "name": "ipython",
    "version": 3
   },
   "file_extension": ".py",
   "mimetype": "text/x-python",
   "name": "python",
   "nbconvert_exporter": "python",
   "pygments_lexer": "ipython3",
   "version": "3.6.3"
  }
 },
 "nbformat": 4,
 "nbformat_minor": 2
}
